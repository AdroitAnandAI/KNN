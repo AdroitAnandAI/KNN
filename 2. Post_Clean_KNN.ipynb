{
 "cells": [
  {
   "cell_type": "markdown",
   "metadata": {},
   "source": [
    "# k-NN on Amazon Reviews Dataset (Part II)"
   ]
  },
  {
   "cell_type": "markdown",
   "metadata": {},
   "source": [
    "\n",
    "## Data Source: \n",
    "**The preprocessing step has produced final.sqlite file after doing the data preparation & cleaning.** The review text is now devoid of punctuations, HTML markups and stop words.\n",
    "\n",
    "## Objective:\n",
    "**To find accuracy of 10-fold cross validation KNN on vectorized input data, for each of the 4 featurizations, namely BoW, tf-IDF, W2V, tf-IDF weighted W2V. Running time comparison of Brute force vs kd-tree also need to be done.** \n",
    "\n",
    "## At a glance:\n",
    "Random Sampling is done to reduce input data size and time based slicing to split into training and testing data. The accuracy percentage obtained by applying 10-fold cross validation KNN using 4 Featurizations viz. BoW, tf-idf, W2V, tf-idf W2V are compared. The time taken by brute force and kd-tree methods are plotted and analysed. <br><br>"
   ]
  },
  {
   "cell_type": "markdown",
   "metadata": {},
   "source": [
    "# Preprocessed Data Loading"
   ]
  },
  {
   "cell_type": "code",
   "execution_count": 34,
   "metadata": {},
   "outputs": [
    {
     "name": "stdout",
     "output_type": "stream",
     "text": [
      "    index      Id   ProductId          UserId            ProfileName  \\\n",
      "0  138706  150524  0006641040   ACITT7DI6IDDL        shari zychinski   \n",
      "1  138688  150506  0006641040  A2IW4PEEKO2R0U                  Tracy   \n",
      "2  138689  150507  0006641040  A1S4A3IQ2MU7V4  sally sue \"sally sue\"   \n",
      "\n",
      "   HelpfulnessNumerator  HelpfulnessDenominator     Score        Time  \\\n",
      "0                     0                       0  positive   939340800   \n",
      "1                     1                       1  positive  1194739200   \n",
      "2                     1                       1  positive  1191456000   \n",
      "\n",
      "                                      Summary  \\\n",
      "0                   EVERY book is educational   \n",
      "1  Love the book, miss the hard cover version   \n",
      "2               chicken soup with rice months   \n",
      "\n",
      "                                                Text  \\\n",
      "0  this witty little book makes my son laugh at l...   \n",
      "1  I grew up reading these Sendak books, and watc...   \n",
      "2  This is a fun way for children to learn their ...   \n",
      "\n",
      "                                         CleanedText  \n",
      "0  b'witti littl book make son laugh loud recit c...  \n",
      "1  b'grew read sendak book watch realli rosi movi...  \n",
      "2  b'fun way children learn month year learn poem...  \n",
      "(364171, 12)\n"
     ]
    }
   ],
   "source": [
    "#loading libraries for knn\n",
    "import numpy as np\n",
    "import pandas as pd\n",
    "import matplotlib.pyplot as plt\n",
    "from sklearn.cross_validation import train_test_split\n",
    "from sklearn.neighbors import KNeighborsClassifier\n",
    "from sklearn.metrics import accuracy_score\n",
    "from sklearn.cross_validation import cross_val_score\n",
    "from collections import Counter\n",
    "from sklearn.metrics import accuracy_score\n",
    "from sklearn import cross_validation\n",
    "\n",
    "#loading libraries for scikit learn, nlp, db, plot and matrix.\n",
    "import sqlite3\n",
    "import pdb\n",
    "import pandas as pd\n",
    "import numpy as np\n",
    "import nltk\n",
    "import string\n",
    "import matplotlib.pyplot as plt\n",
    "import seaborn as sns\n",
    "from sklearn.feature_extraction.text import TfidfTransformer\n",
    "from sklearn.feature_extraction.text import TfidfVectorizer\n",
    "\n",
    "from sklearn.feature_extraction.text import CountVectorizer\n",
    "from sklearn.metrics import confusion_matrix\n",
    "from sklearn import metrics\n",
    "from sklearn.metrics import roc_curve, auc\n",
    "from nltk.stem.porter import PorterStemmer\n",
    "\n",
    "\n",
    "# using the SQLite Table to read data.\n",
    "con = sqlite3.connect('./final.sqlite') \n",
    "\n",
    "#filtering only positive and negative reviews i.e. \n",
    "# not taking into consideration those reviews with Score=3\n",
    "final = pd.read_sql_query(\"\"\"\n",
    "SELECT *\n",
    "FROM Reviews\n",
    "\"\"\", con) \n",
    "\n",
    "print(final.head(3))\n",
    "print(final.shape)"
   ]
  },
  {
   "cell_type": "markdown",
   "metadata": {},
   "source": [
    "\n",
    "\n",
    "# Random Sampling & Time Based Slicing"
   ]
  },
  {
   "cell_type": "code",
   "execution_count": 35,
   "metadata": {},
   "outputs": [
    {
     "name": "stdout",
     "output_type": "stream",
     "text": [
      "(5000,)\n"
     ]
    }
   ],
   "source": [
    "# To randomly sample the data and sort based on time before doing train/ test split.\n",
    "# The slicing into train & test data will be done later in kfoldcv() function.\n",
    "\n",
    "num_points = 5000\n",
    "\n",
    "# you can use random_state for reproducibility\n",
    "sampled_final = final.sample(n=num_points, random_state=2)\n",
    "\n",
    "#Sorting data according to Time in ascending order\n",
    "sorted_final = sampled_final.sort_values('Time', axis=0, \n",
    "                ascending=True, inplace=False, kind='quicksort', na_position='last')\n",
    "\n",
    "# fetching the outcome class \n",
    "y = sorted_final['Score'] # showing you two ways of indexing a pandas df\n",
    "\n",
    "print(y.shape)"
   ]
  },
  {
   "cell_type": "markdown",
   "metadata": {},
   "source": [
    "# Custom Defined Functions\n",
    "\n",
    "3 user defined functions are written to \n",
    "\n",
    "    a) K-fold Cross Validation & estimation of Optimal K.\n",
    "\n",
    "    b) Compute Accuracy of KNN Classifier.\n",
    "        \n",
    "    c) k-fold Cross Validation & Accuracy Estimation Timer.\n",
    "\n",
    "## a) k-fold Cross Validation & Optimal K estimation"
   ]
  },
  {
   "cell_type": "code",
   "execution_count": 36,
   "metadata": {},
   "outputs": [],
   "source": [
    "# split the data set into train and test. Do 10-fold cross validation\n",
    "# X_1, X_test, y_1, y_test = ...\n",
    "#     cross_validation.train_test_split(X, y, test_size=0.3, random_state=0)\n",
    "\n",
    "import numpy \n",
    "\n",
    "def kfoldcv(X, split_ratio_train = 0.7, algo='auto'):\n",
    "\n",
    "    # Time based slicing of data into train and test.  \n",
    "    num_train_data = int(split_ratio_train*X.shape[0])\n",
    "\n",
    "    X_train = X[0:num_train_data]\n",
    "    y_train = y[0:num_train_data]\n",
    "    X_test = X[num_train_data+1:]\n",
    "    y_test = y[num_train_data+1:]\n",
    "\n",
    "    # creating odd list of K for KNN\n",
    "    myList = list(range(0,50))\n",
    "    neighbors = list(filter(lambda x: x % 2 != 0, myList))\n",
    "#     neighbors = list(range(1,50,2))\n",
    "\n",
    "    # empty list that will hold cv scores\n",
    "    cv_scores = []\n",
    "\n",
    "    # perform 10-fold cross validation\n",
    "    for k in neighbors:\n",
    "        knn = KNeighborsClassifier(n_neighbors=k, algorithm=algo)\n",
    "        scores = cross_val_score(knn, X_train, y_train, cv=10, scoring='accuracy')\n",
    "        cv_scores.append(scores.mean())\n",
    "\n",
    "    # changing to misclassification error\n",
    "    MSE = [1 - x for x in cv_scores]\n",
    "\n",
    "    # determining best k\n",
    "    optimal_k = neighbors[MSE.index(min(MSE))]\n",
    "    print('\\nThe optimal number of neighbors is %d.' % optimal_k)\n",
    "\n",
    "    return optimal_k"
   ]
  },
  {
   "cell_type": "markdown",
   "metadata": {},
   "source": [
    "## b) Compute KNN Classifier Accuracy"
   ]
  },
  {
   "cell_type": "code",
   "execution_count": 37,
   "metadata": {},
   "outputs": [],
   "source": [
    "# ========================== KNN with k = optimal_k ============================\n",
    "#To compute the knn classifier accuracy\n",
    "\n",
    "def compute_accuracy(X, y, optimal_k, split_ratio_train = 0.7, algo='auto'):\n",
    "    \n",
    "    # Time based slicing of data into train and test.  \n",
    "    num_train_data = int(split_ratio_train*X.shape[0])\n",
    "\n",
    "    X_train = X[0:num_train_data]\n",
    "    y_train = y[0:num_train_data]\n",
    "    X_test = X[num_train_data+1:]\n",
    "    y_test = y[num_train_data+1:]\n",
    "    \n",
    "    # instantiate learning model k = optimal_k\n",
    "    knn_optimal = KNeighborsClassifier(n_neighbors=optimal_k, algorithm=algo)\n",
    "\n",
    "    # fitting the model\n",
    "    knn_optimal.fit(X_train, y_train)\n",
    "\n",
    "    # predict the response\n",
    "    pred = knn_optimal.predict(X_test)\n",
    "\n",
    "    # evaluate accuracy\n",
    "    acc = accuracy_score(y_test, pred) * 100\n",
    "    print(\n",
    "    '\\nThe accuracy of the knn classifier for k = %d is %f%%' % (optimal_k, acc))\n",
    "    return acc"
   ]
  },
  {
   "cell_type": "markdown",
   "metadata": {},
   "source": [
    "## c) k-fold Cross Validation & Accuracy Estimation Timer"
   ]
  },
  {
   "cell_type": "code",
   "execution_count": 38,
   "metadata": {},
   "outputs": [],
   "source": [
    "# To call kfold cv and estimate accuracy with optimal K\n",
    "\n",
    "def kfoldknn_timer(X):\n",
    "    # To run kd-tree knn & time the code\n",
    "    start_time = time.time()\n",
    "    k_optimal = kfoldcv(X, algo='kd_tree')\n",
    "\n",
    "    acc = compute_accuracy(X, y, k_optimal, algo='kd_tree')\n",
    "    print(\"Time Taken by KD Tree is {} seconds when dimensionality = {}\" \\\n",
    "          .format(round(time.time() - start_time, 2), X.shape[1]))\n",
    "\n",
    "    # To run brute force knn & time the code\n",
    "    start_time = time.time()\n",
    "    k_optimal = kfoldcv(X, algo='brute')\n",
    "\n",
    "    acc = compute_accuracy(X, y, k_optimal, algo='brute')\n",
    "    print(\"Time Taken by Brute Force is {} seconds when dimensionality = {}\" \\\n",
    "          .format(round(time.time() - start_time, 2), X.shape[1]))"
   ]
  },
  {
   "cell_type": "markdown",
   "metadata": {},
   "source": [
    "# BoW & KNN\n",
    "\n",
    "BoW will result in a **sparse matrix with huge number of features** as it creates a feature for each unique word in the review.\n",
    "\n",
    "If the number of features is very high, it is highly recommended to use another dimensionality reduction method (e.g. **PCA for dense data or TruncatedSVD for sparse data**) to reduce the number of dimensions to a reasonable amount (e.g. 50), before feeding in to KNN. **Otherwise kd-tree will not work with sparse data**). "
   ]
  },
  {
   "cell_type": "code",
   "execution_count": 39,
   "metadata": {},
   "outputs": [
    {
     "name": "stdout",
     "output_type": "stream",
     "text": [
      "\n",
      "The optimal number of neighbors is 27.\n",
      "\n",
      "The accuracy of the knn classifier for k = 27 is 83.388926%\n",
      "Time Taken by KD Tree is 7.21 seconds when dimensionality = 5\n",
      "\n",
      "The optimal number of neighbors is 27.\n",
      "\n",
      "The accuracy of the knn classifier for k = 27 is 83.388926%\n",
      "Time Taken by Brute Force is 14.65 seconds when dimensionality = 5\n"
     ]
    }
   ],
   "source": [
    "#BoW\n",
    "\n",
    "import time\n",
    "from sklearn.decomposition import TruncatedSVD\n",
    "from sklearn.random_projection import sparse_random_matrix\n",
    "\n",
    "#BoW\n",
    "count_vect = CountVectorizer() #in scikit-learn\n",
    "X = count_vect.fit_transform(sorted_final['CleanedText'].values)\n",
    "X.get_shape()\n",
    "\n",
    "# to reduce dimensions using TruncatedSVD. \n",
    "#kd-tree will not work with sparse matrices. it requires random uniform data.\n",
    "svd = TruncatedSVD(n_components=5, n_iter=10, random_state=42)\n",
    "X = svd.fit_transform(X) \n",
    "\n",
    "# To run brute & kd-tree knn & also time the code\n",
    "kfoldknn_timer(X)"
   ]
  },
  {
   "cell_type": "markdown",
   "metadata": {},
   "source": [
    "# tf-IDF & KNN\n",
    "\n",
    "**Sparse matrix generated from tf-IDF **  is fed in to TruncatedSVD so that kd-tree will work. Then brute & kd-tree knn is run on the the resulting data to find accuracy and to time the code."
   ]
  },
  {
   "cell_type": "code",
   "execution_count": 40,
   "metadata": {},
   "outputs": [
    {
     "name": "stdout",
     "output_type": "stream",
     "text": [
      "\n",
      "The optimal number of neighbors is 23.\n",
      "\n",
      "The accuracy of the knn classifier for k = 23 is 83.255504%\n",
      "Time Taken by KD Tree is 7.17 seconds when dimensionality = 5\n",
      "\n",
      "The optimal number of neighbors is 23.\n",
      "\n",
      "The accuracy of the knn classifier for k = 23 is 83.255504%\n",
      "Time Taken by Brute Force is 15.77 seconds when dimensionality = 5\n"
     ]
    }
   ],
   "source": [
    "#TF-IDF\n",
    "\n",
    "tf_idf_vect = TfidfVectorizer()\n",
    "X = tf_idf_vect.fit_transform(sorted_final['CleanedText'].values)\n",
    "X.get_shape()\n",
    "\n",
    "# to reduce dimensions using TruncatedSVD. \n",
    "#kd-tree will not work with sparse matrices. it requires random uniform data.\n",
    "svd = TruncatedSVD(n_components=5, n_iter=10, random_state=42)\n",
    "X = svd.fit_transform(X) \n",
    "\n",
    "# To run brute & kd-tree knn & also time the code\n",
    "kfoldknn_timer(X)\n"
   ]
  },
  {
   "cell_type": "markdown",
   "metadata": {},
   "source": [
    "## W2V & KNN\n",
    "\n",
    "\n",
    "Our own Word2Vec model is trained with input text corpus using your own text corpus. Average W2V is computed for each review & brute force and kd-tree KNN is run."
   ]
  },
  {
   "cell_type": "code",
   "execution_count": 41,
   "metadata": {},
   "outputs": [],
   "source": [
    "# Train your own Word2Vec model using your own text corpus\n",
    "import gensim\n",
    "\n",
    "import re\n",
    "\n",
    "def cleanhtml(sentence): #function to clean the word of any html-tags\n",
    "    cleanr = re.compile('<.*?>')\n",
    "    cleantext = re.sub(cleanr, ' ', sentence)\n",
    "    return cleantext\n",
    "#function to clean the word of any punctuation or special characters\n",
    "def cleanpunc(sentence): \n",
    "    cleaned = re.sub(r'[?|!|\\'|\"|#]',r'',sentence)\n",
    "    cleaned = re.sub(r'[.|,|)|(|\\|/]',r' ',cleaned)\n",
    "    return  cleaned\n",
    "\n",
    "\n",
    "#select subset of points for fast execution\n",
    "i=0\n",
    "list_of_sent=[]\n",
    "w2v_dim = 100\n",
    "\n",
    "for sent in sorted_final['CleanedText']:\n",
    "    sent = str(sent, 'utf-8')\n",
    "    filtered_sentence=[]\n",
    "    sent=cleanhtml(sent)\n",
    "    for w in sent.split():\n",
    "        for cleaned_words in cleanpunc(w).split():\n",
    "            if(cleaned_words.isalpha()):    \n",
    "                filtered_sentence.append(cleaned_words.lower())\n",
    "            else:\n",
    "                continue \n",
    "    list_of_sent.append(filtered_sentence)\n",
    "    \n",
    "w2v_model=gensim.models.Word2Vec(list_of_sent,min_count=5,size=w2v_dim, workers=4) "
   ]
  },
  {
   "cell_type": "code",
   "execution_count": 42,
   "metadata": {},
   "outputs": [
    {
     "name": "stdout",
     "output_type": "stream",
     "text": [
      "[array([ 0.14096403,  0.15196943, -0.0840353 ,  0.13165361, -0.35688924,\n",
      "       -0.02161835,  0.1535544 , -0.28388014,  0.36978848, -0.14056698,\n",
      "        0.06698793,  0.1785222 , -0.15523394,  0.50568303,  0.71111251,\n",
      "       -0.04802473, -0.10913318, -0.06762949,  0.06191286, -0.39890753,\n",
      "       -0.11614569, -0.2162448 ,  0.32639967,  0.54663147,  0.06329022,\n",
      "       -0.03752851,  0.12258716,  0.16566674, -0.07008869, -0.16885243,\n",
      "        0.20653615, -0.08211443,  0.07522928,  0.03821804, -0.11691547,\n",
      "        0.18917599, -0.15604629, -0.42077018,  0.16732795, -0.13304788,\n",
      "       -0.12058857, -0.2646071 ,  0.06772086, -0.26104035, -0.1916956 ,\n",
      "        0.05214952, -0.05506117,  0.04836735, -0.03821971,  0.04785469,\n",
      "       -0.16660572,  0.18515983,  0.12132749,  0.12231749, -0.16537742,\n",
      "       -0.11631031,  0.09249982,  0.14332525, -0.08784672,  0.05710632,\n",
      "        0.21051363, -0.06665659,  0.39793519, -0.01907207,  0.11012624,\n",
      "       -0.01890125,  0.16413239, -0.0374707 , -0.44964036,  0.13633638,\n",
      "        0.65436258, -0.01178733, -0.15413906, -0.22194976,  0.04722565,\n",
      "       -0.15363131, -0.15634076,  0.17935718, -0.03464829, -0.30687417,\n",
      "        0.61355281, -0.00911581,  0.08730479, -0.12300512,  0.00604612,\n",
      "        0.02960093,  0.11609484,  0.05567315, -0.02400271,  0.05302361,\n",
      "        0.33259143,  0.17456012, -0.12392631, -0.04545302, -0.06463347,\n",
      "        0.19466834,  0.03619871,  0.00299885, -0.09803861,  0.00877023]), array([ 0.15388207,  0.13093692, -0.10033121,  0.14901304, -0.321243  ,\n",
      "       -0.01138705,  0.14698216, -0.25585839,  0.33567225, -0.11939835,\n",
      "        0.07216691,  0.15643564, -0.1708553 ,  0.49969259,  0.66549695,\n",
      "       -0.0343489 , -0.10684035, -0.05250593,  0.04911484, -0.35639421,\n",
      "       -0.10879123, -0.20179508,  0.34142168,  0.55294895,  0.04318049,\n",
      "       -0.02295859,  0.11535637,  0.15874915, -0.07737031, -0.17549721,\n",
      "        0.20316829, -0.05303845,  0.06189512,  0.0132671 , -0.13294441,\n",
      "        0.15925501, -0.12788824, -0.39758771,  0.15565328, -0.1066956 ,\n",
      "       -0.11802546, -0.24376911,  0.08050644, -0.2328947 , -0.1999753 ,\n",
      "        0.06314848, -0.0198259 ,  0.04216687, -0.02828741,  0.00559923,\n",
      "       -0.16688622,  0.16641217,  0.12286145,  0.09395997, -0.15866378,\n",
      "       -0.11984431,  0.11673733,  0.13357522, -0.08876404,  0.08041362,\n",
      "        0.22698358, -0.07781131,  0.38174612, -0.01151328,  0.08405738,\n",
      "       -0.01136235,  0.14029506, -0.04082814, -0.41567415,  0.10160016,\n",
      "        0.62275785, -0.03750381, -0.16618943, -0.21209588,  0.07845303,\n",
      "       -0.12988073, -0.17298796,  0.17538829,  0.01874316, -0.27970698,\n",
      "        0.58708844, -0.00370657,  0.09662686, -0.10822236,  0.03201176,\n",
      "        0.02515504,  0.11637905,  0.03262628, -0.04056843,  0.07033372,\n",
      "        0.32096252,  0.15506069, -0.09207555, -0.01752648, -0.08143727,\n",
      "        0.18154041,  0.05188356, -0.00623841, -0.09701755,  0.0021875 ])]\n",
      "\n",
      "The optimal number of neighbors is 25.\n",
      "\n",
      "The accuracy of the knn classifier for k = 25 is 83.522348%\n",
      "Time Taken by KD Tree is 42.91 seconds when dimensionality = 100\n",
      "\n",
      "The optimal number of neighbors is 25.\n",
      "\n",
      "The accuracy of the knn classifier for k = 25 is 83.522348%\n",
      "Time Taken by Brute Force is 18.51 seconds when dimensionality = 100\n"
     ]
    }
   ],
   "source": [
    "# average Word2Vec\n",
    "# compute average word2vec for each review.\n",
    "sent_vectors = []; # the avg-w2v for each sentence/review is stored in this list\n",
    "\n",
    "for sent in sorted_final['CleanedText']: # for each review/sentence\n",
    "    sent_vec = np.zeros(w2v_dim) # as word vectors are of zero length\n",
    "    cnt_words =0; # num of words with a valid vector in the sentence/review\n",
    "    sent = str(sent, 'utf-8')\n",
    "    sent = re.sub(\"[^\\w]\", \" \",  sent).split()\n",
    "    \n",
    "    for word in sent: # for each word in a review/sentence\n",
    "        try:\n",
    "            vec = w2v_model.wv[word]\n",
    "            sent_vec += vec\n",
    "            cnt_words += 1\n",
    "        except:\n",
    "            pass\n",
    "    sent_vec /= cnt_words\n",
    "    sent_vectors.append(sent_vec)\n",
    "    \n",
    "print(sent_vectors[0:2])\n",
    "\n",
    "sent_df = pd.DataFrame(np.nan_to_num(sent_vectors))\n",
    "\n",
    "# To run brute & kd-tree knn & also time the code\n",
    "kfoldknn_timer(sent_df)\n"
   ]
  },
  {
   "cell_type": "markdown",
   "metadata": {},
   "source": [
    "# TF-IDF weighted W2V\n",
    "\n",
    "The tf-IDF vector is multiplied to W2V vector as a weightage parameter. "
   ]
  },
  {
   "cell_type": "code",
   "execution_count": 43,
   "metadata": {},
   "outputs": [
    {
     "name": "stderr",
     "output_type": "stream",
     "text": [
      "C:\\Anaconda\\lib\\site-packages\\ipykernel_launcher.py:27: RuntimeWarning: invalid value encountered in true_divide\n"
     ]
    },
    {
     "name": "stdout",
     "output_type": "stream",
     "text": [
      "[array([ 0.14096403,  0.15196943, -0.0840353 ,  0.13165361, -0.35688924,\n",
      "       -0.02161835,  0.1535544 , -0.28388014,  0.36978848, -0.14056698,\n",
      "        0.06698793,  0.1785222 , -0.15523394,  0.50568303,  0.71111251,\n",
      "       -0.04802473, -0.10913318, -0.06762949,  0.06191286, -0.39890753,\n",
      "       -0.11614569, -0.2162448 ,  0.32639967,  0.54663147,  0.06329022,\n",
      "       -0.03752851,  0.12258716,  0.16566674, -0.07008869, -0.16885243,\n",
      "        0.20653615, -0.08211443,  0.07522928,  0.03821804, -0.11691547,\n",
      "        0.18917599, -0.15604629, -0.42077018,  0.16732795, -0.13304788,\n",
      "       -0.12058857, -0.2646071 ,  0.06772086, -0.26104035, -0.1916956 ,\n",
      "        0.05214952, -0.05506117,  0.04836735, -0.03821971,  0.04785469,\n",
      "       -0.16660572,  0.18515983,  0.12132749,  0.12231749, -0.16537742,\n",
      "       -0.11631031,  0.09249982,  0.14332525, -0.08784672,  0.05710632,\n",
      "        0.21051363, -0.06665659,  0.39793519, -0.01907207,  0.11012624,\n",
      "       -0.01890125,  0.16413239, -0.0374707 , -0.44964036,  0.13633638,\n",
      "        0.65436258, -0.01178733, -0.15413906, -0.22194976,  0.04722565,\n",
      "       -0.15363131, -0.15634076,  0.17935718, -0.03464829, -0.30687417,\n",
      "        0.61355281, -0.00911581,  0.08730479, -0.12300512,  0.00604612,\n",
      "        0.02960093,  0.11609484,  0.05567315, -0.02400271,  0.05302361,\n",
      "        0.33259143,  0.17456012, -0.12392631, -0.04545302, -0.06463347,\n",
      "        0.19466834,  0.03619871,  0.00299885, -0.09803861,  0.00877023]), array([ 0.15388207,  0.13093692, -0.10033121,  0.14901304, -0.321243  ,\n",
      "       -0.01138705,  0.14698216, -0.25585839,  0.33567225, -0.11939835,\n",
      "        0.07216691,  0.15643564, -0.1708553 ,  0.49969259,  0.66549695,\n",
      "       -0.0343489 , -0.10684035, -0.05250593,  0.04911484, -0.35639421,\n",
      "       -0.10879123, -0.20179508,  0.34142168,  0.55294895,  0.04318049,\n",
      "       -0.02295859,  0.11535637,  0.15874915, -0.07737031, -0.17549721,\n",
      "        0.20316829, -0.05303845,  0.06189512,  0.0132671 , -0.13294441,\n",
      "        0.15925501, -0.12788824, -0.39758771,  0.15565328, -0.1066956 ,\n",
      "       -0.11802546, -0.24376911,  0.08050644, -0.2328947 , -0.1999753 ,\n",
      "        0.06314848, -0.0198259 ,  0.04216687, -0.02828741,  0.00559923,\n",
      "       -0.16688622,  0.16641217,  0.12286145,  0.09395997, -0.15866378,\n",
      "       -0.11984431,  0.11673733,  0.13357522, -0.08876404,  0.08041362,\n",
      "        0.22698358, -0.07781131,  0.38174612, -0.01151328,  0.08405738,\n",
      "       -0.01136235,  0.14029506, -0.04082814, -0.41567415,  0.10160016,\n",
      "        0.62275785, -0.03750381, -0.16618943, -0.21209588,  0.07845303,\n",
      "       -0.12988073, -0.17298796,  0.17538829,  0.01874316, -0.27970698,\n",
      "        0.58708844, -0.00370657,  0.09662686, -0.10822236,  0.03201176,\n",
      "        0.02515504,  0.11637905,  0.03262628, -0.04056843,  0.07033372,\n",
      "        0.32096252,  0.15506069, -0.09207555, -0.01752648, -0.08143727,\n",
      "        0.18154041,  0.05188356, -0.00623841, -0.09701755,  0.0021875 ])]\n",
      "\n",
      "The optimal number of neighbors is 25.\n",
      "\n",
      "The accuracy of the knn classifier for k = 25 is 83.522348%\n",
      "Time Taken by KD Tree is 48.36 seconds when dimensionality = 100\n",
      "\n",
      "The optimal number of neighbors is 25.\n",
      "\n",
      "The accuracy of the knn classifier for k = 25 is 83.522348%\n",
      "Time Taken by Brute Force is 19.38 seconds when dimensionality = 100\n"
     ]
    }
   ],
   "source": [
    "# TF-IDF\n",
    "tf_idf_vect = TfidfVectorizer()\n",
    "final_tf_idf = tf_idf_vect.fit_transform(final['CleanedText'].values)\n",
    "\n",
    "# TF-IDF weighted Word2Vec\n",
    "tfidf_feat = tf_idf_vect.get_feature_names() # tfidf words/col-names\n",
    "# final_tf_idf is the sparse matrix with \n",
    "# row= sentence, col=word and cell_val = tfidf\n",
    "\n",
    "# the tfidf-w2v for each sentence/review is stored in this list\n",
    "tfidf_sent_vectors = []; \n",
    "row=0;\n",
    "for sent in sorted_final['CleanedText']: # for each review/sentence\n",
    "    sent_vec = np.zeros(w2v_dim) # as word vectors are of zero length\n",
    "    cnt_words =0; # num of words with a valid vector in the sentence/review\n",
    "    sent = str(sent, 'utf-8')\n",
    "    sent = re.sub(\"[^\\w]\", \" \",  sent).split()\n",
    "    #print(sent)\n",
    "    weight_sum =0; # num of words with a valid vector in the sentence/review\n",
    "    for word in sent: # for each word in a review/sentence\n",
    "        try:\n",
    "            vec = w2v_model.wv[word]\n",
    "            # obtain the tf_idfidf of a word in a sentence/review\n",
    "            tf_idf = final_tf_idf[row, tfidf_feat.index(word)]\n",
    "            sent_vec += (vec * tf_idf)\n",
    "            weight_sum += tf_idf\n",
    "        except:\n",
    "            pass\n",
    "    sent_vec /= weight_sum\n",
    "    tfidf_sent_vectors.append(sent_vec)\n",
    "    row += 1\n",
    "    \n",
    "\n",
    "print(sent_vectors[0:2])\n",
    "\n",
    "sent_df = pd.DataFrame(np.nan_to_num(sent_vectors))\n",
    "\n",
    "# To run brute & kd-tree knn & also time the code\n",
    "kfoldknn_timer(sent_df)\n"
   ]
  },
  {
   "cell_type": "markdown",
   "metadata": {},
   "source": [
    "# Accuracy % Comparison across 4 Featurizations\n",
    "\n",
    "The accuracy percentage obtatined using 4 Featurizations viz. BoW, tf-idf, W2V, tf-idf W2V are plotted as a bar diagram below."
   ]
  },
  {
   "cell_type": "code",
   "execution_count": 63,
   "metadata": {},
   "outputs": [
    {
     "data": {
      "image/png": "[encoded data removed]",
      "text/plain": [
       "<matplotlib.figure.Figure at 0x1f02dc50>"
      ]
     },
     "metadata": {},
     "output_type": "display_data"
    }
   ],
   "source": [
    "# To plot accuracy percentrage obtatined using 4 Featurizations\n",
    "\n",
    "data = [83.38,83.25,83.52, 83.52]\n",
    "\n",
    "x = np.arange(4)\n",
    "plt.bar(x, height= data)\n",
    "plt.xticks(x, ['BoW','tf-idf','W2V', 'tf-idf W2V']);\n",
    "plt.ylim([min(data)-.1, max(data)+.1])\n",
    "\n",
    "plt.ylabel('Accuracy %')\n",
    "plt.title('Obtained Accuracies: BoW vs tf-idf vs W2V vs tf-idf W2V', fontsize=20)\n",
    "plt.show()"
   ]
  },
  {
   "cell_type": "markdown",
   "metadata": {},
   "source": [
    "## Running Time Analysis: kd-tree vs Brute Force"
   ]
  },
  {
   "cell_type": "markdown",
   "metadata": {},
   "source": [
    "The comparison of running time between kd-tree and brute force knn for varying dataset sizes is plotted below. The values hardcoded are noted after timing the code run multiple times with varying parameters."
   ]
  },
  {
   "cell_type": "code",
   "execution_count": 44,
   "metadata": {},
   "outputs": [
    {
     "data": {
      "image/png": "[encoded data removed]",
      "text/plain": [
       "<matplotlib.figure.Figure at 0x1f00bda0>"
      ]
     },
     "metadata": {},
     "output_type": "display_data"
    }
   ],
   "source": [
    "# with w2v dimension = 5\n",
    "\n",
    "plt.plot([1000,5000,20000], [1.92,7.92,39.35], 'r-', label='kd-tree')\n",
    "plt.plot([1000,5000,20000], [2.11,16.74,194.46], 'b-', label='brute force')\n",
    "plt.xlabel('Data Points')\n",
    "plt.ylabel('Running Time')\n",
    "plt.title('Running Time Comparison of kd-tree & Brute Force (For W2V Vector Dim = 5)', fontsize=15)\n",
    "plt.legend()\n",
    "plt.show()"
   ]
  },
  {
   "cell_type": "code",
   "execution_count": 45,
   "metadata": {},
   "outputs": [
    {
     "data": {
      "image/png": "[encoded data removed]",
      "text/plain": [
       "<matplotlib.figure.Figure at 0x27775208>"
      ]
     },
     "metadata": {},
     "output_type": "display_data"
    }
   ],
   "source": [
    "# with w2v dimension = 50\n",
    "\n",
    "plt.plot([1000,5000,20000], [2.94,28.24,1210.01], 'r-', label='kd-tree')\n",
    "plt.plot([1000,5000,20000], [2.14,17.29,200.99], 'b-', label='brute force')\n",
    "plt.xlabel('Data Points')\n",
    "plt.ylabel('Running Time')\n",
    "plt.title('Running Time Comparison of kd-tree & Brute Force (For W2V Vector Dim = 50)', fontsize=15)\n",
    "plt.legend()\n",
    "plt.show()"
   ]
  },
  {
   "cell_type": "markdown",
   "metadata": {},
   "source": [
    "## Observations\n",
    "\n",
    "1. The Accuracy obtained using **W2V featurization is slightly higher** than BoW and tf-IDF methods, though not significantly higher.\n",
    "\n",
    "2. **When dimension is small (dim=5), the increase in running time of kd-tree knn is linear but the brute force algorithm is exponential. Hence, at lower dimensions, kd-tree performs better.**\n",
    "\n",
    "3. **When dimension is high (dim=50), the increase in running time of kd-tree knn is exponential, but brute force algorithm is comparatively linear. Hence, brute force is better when dimension is high. **\n",
    "\n",
    "4. **Explanation of 2 & 3: ** It is known that kD-Trees **don't scale very well with high dimensionality**. When d is not small, the time complexity  of knn becomes, O (2^d*log n). When 2^d = n, then time complexity = O (n log n) which is more than brute force (O (n)). This explains (3).\n",
    "\n",
    "5. Even when d is small, **time complexity of kd-tree would be O (log n) only when data is uniformly distributed**. When data is not uniform, then kd-tree would move towards complexity of simple implementation, O (n)\n",
    "\n",
    "6. It has been noticed that the **general rules given in (2) and (3) are not hard and fast**. For the same number of datapoints, kd-tree is seen much efficient at very high dimensions.\n",
    "\n",
    "    **Timing Results:** <br>\n",
    "    (W2V dimension = 50) Brute Force = 2.16 seconds; kd-tree = 4.06 seconds<br>\n",
    "    (W2V dimension = 500) Brute Force = 26.55 seconds; kd-tree = 25.14 seconds.<br><br>\n",
    "    \n",
    "    **Reason:** The performance may depend a lot on the characteristics of the data. For example, are the data points evenly distributed, clustered or otherwise arranged?\n",
    "\n",
    "<br>**Note:**\n",
    "**What happens for kd-tree at high dimensions?** To evaluate a query point at boundary, the circle drawn would intersect all adjoining regions. Thus, we have to look at all 2^d adjoining regions. when d = 20 then there are 1 million regions, which is huge! Thus, when dimensionality is 10K or 20K, then kd-tree is useless, as shown in the timing results.\n",
    "\n"
   ]
  },
  {
   "cell_type": "code",
   "execution_count": null,
   "metadata": {},
   "outputs": [],
   "source": []
  }
 ],
 "metadata": {
  "kernelspec": {
   "display_name": "Python 3",
   "language": "python",
   "name": "python3"
  },
  "language_info": {
   "codemirror_mode": {
    "name": "ipython",
    "version": 3
   },
   "file_extension": ".py",
   "mimetype": "text/x-python",
   "name": "python",
   "nbconvert_exporter": "python",
   "pygments_lexer": "ipython3",
   "version": "3.6.4"
  }
 },
 "nbformat": 4,
 "nbformat_minor": 2
}
